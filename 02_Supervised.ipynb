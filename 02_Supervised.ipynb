{
 "cells": [
  {
   "cell_type": "markdown",
   "id": "3e01e3d0",
   "metadata": {},
   "source": [
    "Project description\n",
    "===\n",
    "\n",
    "Here we have a dataset on churned Beta Bank customers. We aim to build a model to predict whether a customer will leave the bank soon.\n",
    "\n",
    "First, we should do some data preprocessing: clean the data, fill in the missing values (if any), and change data types. Next, we need to scale and encode the date. Afterward, we could proceed to develop models.\n",
    "\n",
    "**Description of the data**\n",
    "```\n",
    "/datasets/Churn.csv\n",
    "Features\n",
    "    RowNumber — data string index\n",
    "    CustomerId — unique customer identifier\n",
    "    Surname — surname\n",
    "    CreditScore — credit score\n",
    "    Geography — country of residence\n",
    "    Gender — gender\n",
    "    Age — age\n",
    "    Tenure — period of maturation for a customer’s fixed deposit (years)\n",
    "    Balance — account balance\n",
    "    NumOfProducts — number of banking products used by the customer\n",
    "    HasCrCard — customer has a credit card\n",
    "    IsActiveMember — customer’s activeness\n",
    "    EstimatedSalary — estimated salary\n",
    "Target\n",
    "    Exited — сustomer has left\n",
    "```"
   ]
  },
  {
   "cell_type": "markdown",
   "id": "87e74e2a",
   "metadata": {},
   "source": [
    "## Open and prepare the data"
   ]
  },
  {
   "cell_type": "code",
   "execution_count": 1,
   "id": "e845be71",
   "metadata": {},
   "outputs": [
    {
     "data": {
      "application/javascript": [
       "IPython.OutputArea.prototype._should_scroll = function(lines) {\n",
       "    return false;\n",
       "}\n"
      ],
      "text/plain": [
       "<IPython.core.display.Javascript object>"
      ]
     },
     "metadata": {},
     "output_type": "display_data"
    }
   ],
   "source": [
    "%%javascript\n",
    "IPython.OutputArea.prototype._should_scroll = function(lines) {\n",
    "    return false;\n",
    "}"
   ]
  },
  {
   "cell_type": "code",
   "execution_count": 2,
   "id": "adab4bfb",
   "metadata": {},
   "outputs": [],
   "source": [
    "import math\n",
    "import matplotlib.pyplot as plt \n",
    "import numpy as np\n",
    "import pandas as pd\n",
    "\n",
    "from sklearn.tree import DecisionTreeClassifier\n",
    "from sklearn.ensemble import RandomForestClassifier \n",
    "\n",
    "from sklearn.model_selection import train_test_split\n",
    "from sklearn.metrics import f1_score\n",
    "from sklearn.metrics import roc_curve\n",
    "from sklearn.metrics import roc_auc_score\n",
    "\n",
    "from sklearn.preprocessing import OrdinalEncoder\n",
    "from sklearn.preprocessing import StandardScaler\n",
    "from sklearn.utils import shuffle"
   ]
  },
  {
   "cell_type": "code",
   "execution_count": 3,
   "id": "2462a0ad",
   "metadata": {},
   "outputs": [],
   "source": [
    "%matplotlib inline\n",
    "%config InlineBackend.figure_format = 'retina'\n",
    "\n",
    "pd.set_option('display.float_format', '{:.3f}'.format)\n",
    "pd.set_option('display.max_colwidth', None) # no wrap\n",
    "pd.set_option('display.max_columns', 100) # columns number\n",
    "pd.set_option('display.max_rows', 50) # rows number"
   ]
  },
  {
   "cell_type": "code",
   "execution_count": 4,
   "id": "8a8ee7e4",
   "metadata": {},
   "outputs": [],
   "source": [
    "churn_dtype = {'CreditScore': 'uint16', 'Age': 'uint8', 'Balance': 'float32', \n",
    "                'NumOfProducts': 'uint8', 'HasCrCard': 'uint8', 'IsActiveMember': 'uint8', \n",
    "               'EstimatedSalary': 'float32', 'Exited': 'uint8'}\n",
    "\n",
    "try:\n",
    "    churn = pd.read_csv('./datasets/Churn.csv', dtype=churn_dtype,)\n",
    "except:\n",
    "    churn = pd.read_csv('/datasets/Churn.csv', dtype=churn_dtype,)"
   ]
  },
  {
   "cell_type": "code",
   "execution_count": 5,
   "id": "4a1119a8",
   "metadata": {},
   "outputs": [
    {
     "name": "stdout",
     "output_type": "stream",
     "text": [
      "<class 'pandas.core.frame.DataFrame'>\n",
      "RangeIndex: 10000 entries, 0 to 9999\n",
      "Data columns (total 11 columns):\n",
      " #   Column           Non-Null Count  Dtype  \n",
      "---  ------           --------------  -----  \n",
      " 0   CreditScore      10000 non-null  uint16 \n",
      " 1   Geography        10000 non-null  object \n",
      " 2   Gender           10000 non-null  object \n",
      " 3   Age              10000 non-null  uint8  \n",
      " 4   Tenure           10000 non-null  uint8  \n",
      " 5   Balance          10000 non-null  float32\n",
      " 6   NumOfProducts    10000 non-null  uint8  \n",
      " 7   HasCrCard        10000 non-null  uint8  \n",
      " 8   IsActiveMember   10000 non-null  uint8  \n",
      " 9   EstimatedSalary  10000 non-null  float32\n",
      " 10  Exited           10000 non-null  uint8  \n",
      "dtypes: float32(2), object(2), uint16(1), uint8(6)\n",
      "memory usage: 312.6+ KB\n"
     ]
    },
    {
     "data": {
      "text/html": [
       "<div>\n",
       "<style scoped>\n",
       "    .dataframe tbody tr th:only-of-type {\n",
       "        vertical-align: middle;\n",
       "    }\n",
       "\n",
       "    .dataframe tbody tr th {\n",
       "        vertical-align: top;\n",
       "    }\n",
       "\n",
       "    .dataframe thead th {\n",
       "        text-align: right;\n",
       "    }\n",
       "</style>\n",
       "<table border=\"1\" class=\"dataframe\">\n",
       "  <thead>\n",
       "    <tr style=\"text-align: right;\">\n",
       "      <th></th>\n",
       "      <th>CreditScore</th>\n",
       "      <th>Age</th>\n",
       "      <th>Tenure</th>\n",
       "      <th>Balance</th>\n",
       "      <th>NumOfProducts</th>\n",
       "      <th>HasCrCard</th>\n",
       "      <th>IsActiveMember</th>\n",
       "      <th>EstimatedSalary</th>\n",
       "      <th>Exited</th>\n",
       "    </tr>\n",
       "  </thead>\n",
       "  <tbody>\n",
       "    <tr>\n",
       "      <th>count</th>\n",
       "      <td>10000.000</td>\n",
       "      <td>10000.000</td>\n",
       "      <td>10000.000</td>\n",
       "      <td>10000.000</td>\n",
       "      <td>10000.000</td>\n",
       "      <td>10000.000</td>\n",
       "      <td>10000.000</td>\n",
       "      <td>10000.000</td>\n",
       "      <td>10000.000</td>\n",
       "    </tr>\n",
       "    <tr>\n",
       "      <th>mean</th>\n",
       "      <td>650.529</td>\n",
       "      <td>38.922</td>\n",
       "      <td>4.543</td>\n",
       "      <td>76485.891</td>\n",
       "      <td>1.530</td>\n",
       "      <td>0.706</td>\n",
       "      <td>0.515</td>\n",
       "      <td>100090.234</td>\n",
       "      <td>0.204</td>\n",
       "    </tr>\n",
       "    <tr>\n",
       "      <th>std</th>\n",
       "      <td>96.653</td>\n",
       "      <td>10.488</td>\n",
       "      <td>3.112</td>\n",
       "      <td>62397.406</td>\n",
       "      <td>0.582</td>\n",
       "      <td>0.456</td>\n",
       "      <td>0.500</td>\n",
       "      <td>57510.492</td>\n",
       "      <td>0.403</td>\n",
       "    </tr>\n",
       "    <tr>\n",
       "      <th>min</th>\n",
       "      <td>350.000</td>\n",
       "      <td>18.000</td>\n",
       "      <td>0.000</td>\n",
       "      <td>0.000</td>\n",
       "      <td>1.000</td>\n",
       "      <td>0.000</td>\n",
       "      <td>0.000</td>\n",
       "      <td>11.580</td>\n",
       "      <td>0.000</td>\n",
       "    </tr>\n",
       "    <tr>\n",
       "      <th>25%</th>\n",
       "      <td>584.000</td>\n",
       "      <td>32.000</td>\n",
       "      <td>2.000</td>\n",
       "      <td>0.000</td>\n",
       "      <td>1.000</td>\n",
       "      <td>0.000</td>\n",
       "      <td>0.000</td>\n",
       "      <td>51002.109</td>\n",
       "      <td>0.000</td>\n",
       "    </tr>\n",
       "    <tr>\n",
       "      <th>50%</th>\n",
       "      <td>652.000</td>\n",
       "      <td>37.000</td>\n",
       "      <td>4.000</td>\n",
       "      <td>97198.539</td>\n",
       "      <td>1.000</td>\n",
       "      <td>1.000</td>\n",
       "      <td>1.000</td>\n",
       "      <td>100193.914</td>\n",
       "      <td>0.000</td>\n",
       "    </tr>\n",
       "    <tr>\n",
       "      <th>75%</th>\n",
       "      <td>718.000</td>\n",
       "      <td>44.000</td>\n",
       "      <td>7.000</td>\n",
       "      <td>127644.238</td>\n",
       "      <td>2.000</td>\n",
       "      <td>1.000</td>\n",
       "      <td>1.000</td>\n",
       "      <td>149388.254</td>\n",
       "      <td>0.000</td>\n",
       "    </tr>\n",
       "    <tr>\n",
       "      <th>max</th>\n",
       "      <td>850.000</td>\n",
       "      <td>92.000</td>\n",
       "      <td>10.000</td>\n",
       "      <td>250898.094</td>\n",
       "      <td>4.000</td>\n",
       "      <td>1.000</td>\n",
       "      <td>1.000</td>\n",
       "      <td>199992.484</td>\n",
       "      <td>1.000</td>\n",
       "    </tr>\n",
       "  </tbody>\n",
       "</table>\n",
       "</div>"
      ],
      "text/plain": [
       "       CreditScore       Age    Tenure    Balance  NumOfProducts  HasCrCard  \\\n",
       "count    10000.000 10000.000 10000.000  10000.000      10000.000  10000.000   \n",
       "mean       650.529    38.922     4.543  76485.891          1.530      0.706   \n",
       "std         96.653    10.488     3.112  62397.406          0.582      0.456   \n",
       "min        350.000    18.000     0.000      0.000          1.000      0.000   \n",
       "25%        584.000    32.000     2.000      0.000          1.000      0.000   \n",
       "50%        652.000    37.000     4.000  97198.539          1.000      1.000   \n",
       "75%        718.000    44.000     7.000 127644.238          2.000      1.000   \n",
       "max        850.000    92.000    10.000 250898.094          4.000      1.000   \n",
       "\n",
       "       IsActiveMember  EstimatedSalary    Exited  \n",
       "count       10000.000        10000.000 10000.000  \n",
       "mean            0.515       100090.234     0.204  \n",
       "std             0.500        57510.492     0.403  \n",
       "min             0.000           11.580     0.000  \n",
       "25%             0.000        51002.109     0.000  \n",
       "50%             1.000       100193.914     0.000  \n",
       "75%             1.000       149388.254     0.000  \n",
       "max             1.000       199992.484     1.000  "
      ]
     },
     "metadata": {},
     "output_type": "display_data"
    },
    {
     "data": {
      "text/html": [
       "<div>\n",
       "<style scoped>\n",
       "    .dataframe tbody tr th:only-of-type {\n",
       "        vertical-align: middle;\n",
       "    }\n",
       "\n",
       "    .dataframe tbody tr th {\n",
       "        vertical-align: top;\n",
       "    }\n",
       "\n",
       "    .dataframe thead th {\n",
       "        text-align: right;\n",
       "    }\n",
       "</style>\n",
       "<table border=\"1\" class=\"dataframe\">\n",
       "  <thead>\n",
       "    <tr style=\"text-align: right;\">\n",
       "      <th></th>\n",
       "      <th>CreditScore</th>\n",
       "      <th>Geography</th>\n",
       "      <th>Gender</th>\n",
       "      <th>Age</th>\n",
       "      <th>Tenure</th>\n",
       "      <th>Balance</th>\n",
       "      <th>NumOfProducts</th>\n",
       "      <th>HasCrCard</th>\n",
       "      <th>IsActiveMember</th>\n",
       "      <th>EstimatedSalary</th>\n",
       "      <th>Exited</th>\n",
       "    </tr>\n",
       "  </thead>\n",
       "  <tbody>\n",
       "    <tr>\n",
       "      <th>5957</th>\n",
       "      <td>612</td>\n",
       "      <td>Germany</td>\n",
       "      <td>Male</td>\n",
       "      <td>76</td>\n",
       "      <td>6</td>\n",
       "      <td>96166.883</td>\n",
       "      <td>1</td>\n",
       "      <td>1</td>\n",
       "      <td>1</td>\n",
       "      <td>191393.266</td>\n",
       "      <td>0</td>\n",
       "    </tr>\n",
       "    <tr>\n",
       "      <th>5825</th>\n",
       "      <td>607</td>\n",
       "      <td>Spain</td>\n",
       "      <td>Female</td>\n",
       "      <td>62</td>\n",
       "      <td>8</td>\n",
       "      <td>108004.641</td>\n",
       "      <td>1</td>\n",
       "      <td>1</td>\n",
       "      <td>1</td>\n",
       "      <td>23386.770</td>\n",
       "      <td>1</td>\n",
       "    </tr>\n",
       "    <tr>\n",
       "      <th>7611</th>\n",
       "      <td>751</td>\n",
       "      <td>Spain</td>\n",
       "      <td>Male</td>\n",
       "      <td>38</td>\n",
       "      <td>7</td>\n",
       "      <td>0.000</td>\n",
       "      <td>2</td>\n",
       "      <td>0</td>\n",
       "      <td>0</td>\n",
       "      <td>90839.609</td>\n",
       "      <td>0</td>\n",
       "    </tr>\n",
       "    <tr>\n",
       "      <th>8790</th>\n",
       "      <td>416</td>\n",
       "      <td>Spain</td>\n",
       "      <td>Male</td>\n",
       "      <td>35</td>\n",
       "      <td>8</td>\n",
       "      <td>0.000</td>\n",
       "      <td>1</td>\n",
       "      <td>0</td>\n",
       "      <td>0</td>\n",
       "      <td>119712.781</td>\n",
       "      <td>0</td>\n",
       "    </tr>\n",
       "    <tr>\n",
       "      <th>4874</th>\n",
       "      <td>703</td>\n",
       "      <td>France</td>\n",
       "      <td>Male</td>\n",
       "      <td>43</td>\n",
       "      <td>8</td>\n",
       "      <td>0.000</td>\n",
       "      <td>2</td>\n",
       "      <td>1</td>\n",
       "      <td>0</td>\n",
       "      <td>9704.660</td>\n",
       "      <td>0</td>\n",
       "    </tr>\n",
       "  </tbody>\n",
       "</table>\n",
       "</div>"
      ],
      "text/plain": [
       "      CreditScore Geography  Gender  Age  Tenure    Balance  NumOfProducts  \\\n",
       "5957          612   Germany    Male   76       6  96166.883              1   \n",
       "5825          607     Spain  Female   62       8 108004.641              1   \n",
       "7611          751     Spain    Male   38       7      0.000              2   \n",
       "8790          416     Spain    Male   35       8      0.000              1   \n",
       "4874          703    France    Male   43       8      0.000              2   \n",
       "\n",
       "      HasCrCard  IsActiveMember  EstimatedSalary  Exited  \n",
       "5957          1               1       191393.266       0  \n",
       "5825          1               1        23386.770       1  \n",
       "7611          0               0        90839.609       0  \n",
       "8790          0               0       119712.781       0  \n",
       "4874          1               0         9704.660       0  "
      ]
     },
     "metadata": {},
     "output_type": "display_data"
    },
    {
     "name": "stdout",
     "output_type": "stream",
     "text": [
      "\n",
      "Duplicates in data: 0\n",
      "\n"
     ]
    },
    {
     "data": {
      "image/png": "[encoded data removed]",
      "text/plain": [
       "<Figure size 1080x1080 with 9 Axes>"
      ]
     },
     "metadata": {
      "image/png": {
       "height": 861,
       "width": 884
      },
      "needs_background": "light"
     },
     "output_type": "display_data"
    }
   ],
   "source": [
    "churn.drop(['RowNumber', 'CustomerId', 'Surname'], axis=1, inplace = True)\n",
    "\n",
    "churn['Tenure'] = pd.to_numeric(churn['Tenure'].fillna(0), downcast='unsigned')\n",
    "\n",
    "churn.info()\n",
    "display(churn.describe())\n",
    "display(churn.sample(5))\n",
    "print()\n",
    "print('Duplicates in data: {0}'.format(churn.duplicated().sum()))\n",
    "print()\n",
    "churn.hist(figsize=(15,15), edgecolor='gray');"
   ]
  },
  {
   "cell_type": "markdown",
   "id": "9e3aee14",
   "metadata": {},
   "source": [
    "**Conclusion**\n",
    "\n",
    "There are about 10% missing values in the `Tenure` feature. I suppose they indicate the customers without any deposits, and we could fill them with zero. \n",
    "Some features don't influence our target, so we exclude them from the dataset (`RowNumber`, `CustomerId`, `Surname`).\n",
    "There are no duplicates in this dataset.  \n",
    "After the first investigation, we've downcasted floats and unsigned while reading from the file.  "
   ]
  },
  {
   "cell_type": "markdown",
   "id": "d9a5a255",
   "metadata": {},
   "source": [
    "## Examine the balance of classes. "
   ]
  },
  {
   "cell_type": "code",
   "execution_count": 6,
   "id": "3ad6f1ba",
   "metadata": {},
   "outputs": [
    {
     "name": "stdout",
     "output_type": "stream",
     "text": [
      "Train set length: 6000\n",
      "\n",
      "Validation set length: 2000\n",
      "\n",
      "Test set length: 2000\n"
     ]
    }
   ],
   "source": [
    "X = churn.drop(['Exited'], axis=1)\n",
    "y = churn['Exited']\n",
    "\n",
    "encoder = OrdinalEncoder() \n",
    "X = pd.DataFrame(encoder.fit_transform(X), columns=X.columns)\n",
    "\n",
    "X_train_val, X_test, y_train_val, y_test = train_test_split(X, y, test_size=0.20, random_state=42)\n",
    "X_train, X_val, y_train, y_val = train_test_split(X_train_val, y_train_val, test_size=0.25, random_state=42)\n",
    "\n",
    "X_train_val = X_train_val.copy()\n",
    "X_train = X_train.copy()\n",
    "X_val = X_val.copy()\n",
    "X_test = X_test.copy()\n",
    "\n",
    "numeric = ['CreditScore', 'Age', 'Tenure', 'Balance', 'EstimatedSalary']\n",
    "scaler = StandardScaler(copy=True)\n",
    "scaler.fit(X_train[numeric]);\n",
    "\n",
    "X_train_val[numeric] = scaler.transform(X_train_val[numeric]);\n",
    "X_train[numeric] = scaler.transform(X_train[numeric]);\n",
    "X_val[numeric] = scaler.transform(X_val[numeric]);\n",
    "X_test[numeric] = scaler.transform(X_test[numeric]);\n",
    "\n",
    "print('Train set length:', X_train.shape[0])\n",
    "print()\n",
    "print('Validation set length:', X_val.shape[0])\n",
    "print()\n",
    "print('Test set length:', X_test.shape[0])"
   ]
  },
  {
   "cell_type": "code",
   "execution_count": 7,
   "id": "aae6a01f",
   "metadata": {},
   "outputs": [
    {
     "data": {
      "text/plain": [
       "0   0.796\n",
       "1   0.204\n",
       "Name: Exited, dtype: float64"
      ]
     },
     "execution_count": 7,
     "metadata": {},
     "output_type": "execute_result"
    }
   ],
   "source": [
    "y.value_counts(normalize=True)"
   ]
  },
  {
   "cell_type": "markdown",
   "id": "7e55b504",
   "metadata": {},
   "source": [
    "### DecisionTreeClassifier"
   ]
  },
  {
   "cell_type": "code",
   "execution_count": 8,
   "id": "a7ed53fb",
   "metadata": {},
   "outputs": [
    {
     "name": "stdout",
     "output_type": "stream",
     "text": [
      "Best depth: 5\n",
      "F1: 0.574\n"
     ]
    }
   ],
   "source": [
    "dep = 1\n",
    "f1 = 0\n",
    "for i in range(1,50):\n",
    "    model = DecisionTreeClassifier(random_state=42, max_depth=i)\n",
    "    model.fit(X_train, y_train)\n",
    "    if f1_score(y_val, model.predict(X_val)) > f1:\n",
    "        f1 = f1_score(y_val, model.predict(X_val))\n",
    "        dep = i\n",
    "\n",
    "print(f'Best depth: {dep}')\n",
    "model = DecisionTreeClassifier(random_state=42, max_depth=dep)\n",
    "model.fit(X_train, y_train)\n",
    "print(f'F1: {f1_score(y_val, model.predict(X_val)):.3f}')       "
   ]
  },
  {
   "cell_type": "markdown",
   "id": "80336aa7",
   "metadata": {},
   "source": [
    "The best F1 score (0.574) has the DecisionTreeClassifier with depth of 5.\n",
    "\n",
    "---\n",
    "### RandomForestClassifier"
   ]
  },
  {
   "cell_type": "code",
   "execution_count": 9,
   "id": "c30b4bab",
   "metadata": {},
   "outputs": [
    {
     "name": "stdout",
     "output_type": "stream",
     "text": [
      "Best number of estimators: 25\n",
      "F1: 0.590\n"
     ]
    }
   ],
   "source": [
    "n_es = 1\n",
    "f1 = 0\n",
    "for i in range(1,50):\n",
    "    model = RandomForestClassifier(random_state=42, n_estimators=i)\n",
    "    model.fit(X_train, y_train)\n",
    "    if f1_score(y_val, model.predict(X_val)) > f1:\n",
    "        f1 = f1_score(y_val, model.predict(X_val))\n",
    "        n_es = i\n",
    "\n",
    "print(f'Best number of estimators: {n_es}')        \n",
    "model = RandomForestClassifier(random_state=42, n_estimators=n_es)\n",
    "model.fit(X_train, y_train)\n",
    "print(f'F1: {f1_score(y_val, model.predict(X_val)):.3f}')        "
   ]
  },
  {
   "cell_type": "markdown",
   "id": "02537513",
   "metadata": {},
   "source": [
    "The best F1 score (0.59) has the RandomForestClassifier with 25 estimators.\n",
    "\n",
    "---\n",
    "\n",
    "**Conclusion**\n",
    "\n",
    "We have class \"0\" four times more often than class \"1\" in this dataset. To improve our models, we need to address this imbalance.\n",
    "\n",
    "---"
   ]
  },
  {
   "cell_type": "markdown",
   "id": "8dde8366",
   "metadata": {},
   "source": [
    "## Improve the quality of the model. \n",
    "### Balancing with class_weight='balanced' parameter\n",
    "#### DecisionTreeClassifier"
   ]
  },
  {
   "cell_type": "code",
   "execution_count": 10,
   "id": "d255a9f0",
   "metadata": {},
   "outputs": [
    {
     "name": "stdout",
     "output_type": "stream",
     "text": [
      "Best depth: 5\n",
      "F1: 0.568\n"
     ]
    }
   ],
   "source": [
    "dep = 1\n",
    "f1 = 0\n",
    "for i in range(1,10):\n",
    "    model = DecisionTreeClassifier(random_state=42, max_depth=i, class_weight='balanced')\n",
    "    model.fit(X_train, y_train)\n",
    "    if f1_score(y_val, model.predict(X_val)) > f1:\n",
    "        f1 = f1_score(y_val, model.predict(X_val))\n",
    "        dep = i\n",
    "\n",
    "print(f'Best depth: {dep}')\n",
    "model = DecisionTreeClassifier(random_state=42, max_depth=dep, class_weight='balanced')\n",
    "model.fit(X_train, y_train)\n",
    "print(f'F1: {f1_score(y_val, model.predict(X_val)):.3f}')       "
   ]
  },
  {
   "cell_type": "markdown",
   "id": "7d4bfbdb",
   "metadata": {},
   "source": [
    "The best F1 score (0.568) has the DecisionTreeClassifier with depth of 5.\n",
    "\n",
    "---\n",
    "#### RandomForestClassifier"
   ]
  },
  {
   "cell_type": "code",
   "execution_count": 11,
   "id": "502a3b5f",
   "metadata": {},
   "outputs": [
    {
     "name": "stdout",
     "output_type": "stream",
     "text": [
      "Best number of estimators: 29\n",
      "F1: 0.579\n"
     ]
    }
   ],
   "source": [
    "n_es = 1\n",
    "f1 = 0\n",
    "for i in range(1,50):\n",
    "    model = RandomForestClassifier(random_state=42, n_estimators=i, class_weight='balanced')\n",
    "    model.fit(X_train, y_train)\n",
    "    if f1_score(y_val, model.predict(X_val)) > f1:\n",
    "        f1 = f1_score(y_val, model.predict(X_val))\n",
    "        n_es = i\n",
    "\n",
    "print(f'Best number of estimators: {n_es}')        \n",
    "model = RandomForestClassifier(random_state=42, n_estimators=n_es, class_weight='balanced')\n",
    "model.fit(X_train, y_train)\n",
    "print(f'F1: {f1_score(y_val, model.predict(X_val)):.3f}')        "
   ]
  },
  {
   "cell_type": "markdown",
   "id": "73acb04c",
   "metadata": {},
   "source": [
    "The best F1 score (0.579) has the RandomForestClassifier with 29 estimators.\n",
    "\n",
    "---"
   ]
  },
  {
   "cell_type": "markdown",
   "id": "918b20d5",
   "metadata": {},
   "source": [
    "### Balancing with downsampling"
   ]
  },
  {
   "cell_type": "code",
   "execution_count": 12,
   "id": "e73ff590",
   "metadata": {},
   "outputs": [
    {
     "name": "stdout",
     "output_type": "stream",
     "text": [
      "Train set length: 2423\n"
     ]
    },
    {
     "data": {
      "text/plain": [
       "1   0.508\n",
       "0   0.492\n",
       "Name: Exited, dtype: float64"
      ]
     },
     "metadata": {},
     "output_type": "display_data"
    }
   ],
   "source": [
    "def downsample(features, target, fraction):\n",
    "    features_zeros = features[target == 0]\n",
    "    features_ones = features[target == 1]\n",
    "    target_zeros = target[target == 0]\n",
    "    target_ones = target[target == 1]\n",
    "\n",
    "    features_downsampled = pd.concat([features_zeros.sample(frac=fraction, random_state=42)] + [features_ones])\n",
    "    target_downsampled = pd.concat([target_zeros.sample(frac=fraction, random_state=42)] + [target_ones])\n",
    "    features_downsampled, target_downsampled = shuffle(features_downsampled, target_downsampled, random_state=42)\n",
    "\n",
    "    return features_downsampled, target_downsampled\n",
    "\n",
    "X_train_down, y_train_down = downsample(X_train, y_train, 0.25)\n",
    "\n",
    "print('Train set length:', X_train_down.shape[0])\n",
    "display(y_train_down.value_counts(normalize=True))"
   ]
  },
  {
   "cell_type": "markdown",
   "id": "0518e578",
   "metadata": {},
   "source": [
    "#### DecisionTreeClassifier"
   ]
  },
  {
   "cell_type": "code",
   "execution_count": 13,
   "id": "0a8dad4f",
   "metadata": {},
   "outputs": [
    {
     "name": "stdout",
     "output_type": "stream",
     "text": [
      "Best depth: 5\n",
      "F1: 0.565\n"
     ]
    }
   ],
   "source": [
    "dep = 1\n",
    "f1 = 0\n",
    "for i in range(1,10):\n",
    "    model = DecisionTreeClassifier(random_state=42, max_depth=i)\n",
    "    model.fit(X_train_down, y_train_down)\n",
    "    if f1_score(y_val, model.predict(X_val)) > f1:\n",
    "        f1 = f1_score(y_val, model.predict(X_val))\n",
    "        dep = i\n",
    "\n",
    "print(f'Best depth: {dep}')\n",
    "model = DecisionTreeClassifier(random_state=42, max_depth=dep)\n",
    "model.fit(X_train_down, y_train_down)\n",
    "print(f'F1: {f1_score(y_val, model.predict(X_val)):.3f}')       "
   ]
  },
  {
   "cell_type": "markdown",
   "id": "adab7665",
   "metadata": {},
   "source": [
    "The best F1 score (0.565) has the DecisionTreeClassifier with depth of 5.\n",
    "\n",
    "---\n",
    "#### RandomForestClassifier"
   ]
  },
  {
   "cell_type": "code",
   "execution_count": 14,
   "id": "dd2468c3",
   "metadata": {},
   "outputs": [
    {
     "name": "stdout",
     "output_type": "stream",
     "text": [
      "Best number of estimators: 38\n",
      "F1: 0.589\n"
     ]
    }
   ],
   "source": [
    "n_es = 1\n",
    "f1 = 0\n",
    "for i in range(1,50):\n",
    "    model = RandomForestClassifier(random_state=42, n_estimators=i)\n",
    "    model.fit(X_train_down, y_train_down)\n",
    "    if f1_score(y_val, model.predict(X_val)) > f1:\n",
    "        f1 = f1_score(y_val, model.predict(X_val))\n",
    "        n_es = i\n",
    "\n",
    "print(f'Best number of estimators: {n_es}')        \n",
    "model = RandomForestClassifier(random_state=42, n_estimators=n_es)\n",
    "model.fit(X_train_down, y_train_down)\n",
    "print(f'F1: {f1_score(y_val, model.predict(X_val)):.3f}')        "
   ]
  },
  {
   "cell_type": "markdown",
   "id": "5fadf12f",
   "metadata": {},
   "source": [
    "The best F1 score (0.589) has the RandomForestClassifier with 38 estimators.\n",
    "\n",
    "---"
   ]
  },
  {
   "cell_type": "markdown",
   "id": "17f50857",
   "metadata": {},
   "source": [
    "### Balancing with upsampling"
   ]
  },
  {
   "cell_type": "code",
   "execution_count": 15,
   "id": "1f069c92",
   "metadata": {},
   "outputs": [
    {
     "name": "stdout",
     "output_type": "stream",
     "text": [
      "Train set length: 9693\n"
     ]
    },
    {
     "data": {
      "text/plain": [
       "1   0.508\n",
       "0   0.492\n",
       "Name: Exited, dtype: float64"
      ]
     },
     "metadata": {},
     "output_type": "display_data"
    }
   ],
   "source": [
    "def upsample(features, target, repeat):\n",
    "    features_zeros = features[target == 0]\n",
    "    features_ones = features[target == 1]\n",
    "    target_zeros = target[target == 0]\n",
    "    target_ones = target[target == 1]\n",
    "\n",
    "    features_upsampled = pd.concat([features_zeros] + [features_ones] * repeat)\n",
    "    target_upsampled = pd.concat([target_zeros] + [target_ones] * repeat)\n",
    "    features_upsampled, target_upsampled = shuffle(features_upsampled, target_upsampled, random_state=42)\n",
    "\n",
    "    return features_upsampled, target_upsampled\n",
    "\n",
    "X_train_up, y_train_up = upsample(X_train, y_train, 4)\n",
    "\n",
    "print('Train set length:', X_train_up.shape[0])\n",
    "display(y_train_up.value_counts(normalize=True))"
   ]
  },
  {
   "cell_type": "markdown",
   "id": "13789f7e",
   "metadata": {},
   "source": [
    "#### DecisionTreeClassifier"
   ]
  },
  {
   "cell_type": "code",
   "execution_count": 16,
   "id": "13d3f523",
   "metadata": {},
   "outputs": [
    {
     "name": "stdout",
     "output_type": "stream",
     "text": [
      "Best depth: 5\n",
      "F1: 0.568\n"
     ]
    }
   ],
   "source": [
    "dep = 1\n",
    "f1 = 0\n",
    "for i in range(1,10):\n",
    "    model = DecisionTreeClassifier(random_state=42, max_depth=i)\n",
    "    model.fit(X_train_up, y_train_up)\n",
    "    if f1_score(y_val, model.predict(X_val)) > f1:\n",
    "        f1 = f1_score(y_val, model.predict(X_val))\n",
    "        dep = i\n",
    "\n",
    "print(f'Best depth: {dep}')\n",
    "model = DecisionTreeClassifier(random_state=42, max_depth=dep)\n",
    "model.fit(X_train_up, y_train_up)\n",
    "print(f'F1: {f1_score(y_val, model.predict(X_val)):.3f}')       "
   ]
  },
  {
   "cell_type": "markdown",
   "id": "51d8d2fc",
   "metadata": {},
   "source": [
    "The best F1 score (0.568) has the DecisionTreeClassifier with depth of 5.\n",
    "\n",
    "---\n",
    "#### RandomForestClassifier"
   ]
  },
  {
   "cell_type": "code",
   "execution_count": 17,
   "id": "8e98eb06",
   "metadata": {},
   "outputs": [
    {
     "name": "stdout",
     "output_type": "stream",
     "text": [
      "Best number of estimators: 35\n",
      "F1: 0.616\n"
     ]
    }
   ],
   "source": [
    "n_es = 1\n",
    "f1 = 0\n",
    "for i in range(1,50):\n",
    "    model = RandomForestClassifier(random_state=42, n_estimators=i)\n",
    "    model.fit(X_train_up, y_train_up)\n",
    "    if f1_score(y_val, model.predict(X_val)) > f1:\n",
    "        f1 = f1_score(y_val, model.predict(X_val))\n",
    "        n_es = i\n",
    "\n",
    "print(f'Best number of estimators: {n_es}')        \n",
    "model = RandomForestClassifier(random_state=42, n_estimators=n_es)\n",
    "model.fit(X_train_up, y_train_up)\n",
    "print(f'F1: {f1_score(y_val, model.predict(X_val)):.3f}')        "
   ]
  },
  {
   "cell_type": "markdown",
   "id": "f39d1710",
   "metadata": {},
   "source": [
    "The best F1 score (0.616) has the RandomForestClassifier with 35 estimators.\n",
    "\n",
    "---"
   ]
  },
  {
   "cell_type": "markdown",
   "id": "fcbc2761",
   "metadata": {},
   "source": [
    "**Conclusion**\n",
    "\n",
    "Upsampling gives the best result than the class_weight='balanced' parameter or downsampling.  \n",
    "And best model overll is the **RandomForestClassifier with 35 estimators.**\n",
    "\n",
    "---\n",
    "\n",
    "## Perform the final testing."
   ]
  },
  {
   "cell_type": "code",
   "execution_count": 18,
   "id": "b8fcd939",
   "metadata": {},
   "outputs": [
    {
     "name": "stdout",
     "output_type": "stream",
     "text": [
      "Train set length: 9693\n"
     ]
    },
    {
     "data": {
      "text/plain": [
       "1   0.508\n",
       "0   0.492\n",
       "Name: Exited, dtype: float64"
      ]
     },
     "metadata": {},
     "output_type": "display_data"
    },
    {
     "name": "stdout",
     "output_type": "stream",
     "text": [
      "F1: 0.595\n",
      "AUC-ROC: 0.844\n"
     ]
    }
   ],
   "source": [
    "X_train_val_up, y_train_val_up = upsample(X_train_val, y_train_val, 4)\n",
    "print('Train set length:', X_train_up.shape[0])\n",
    "display(y_train_up.value_counts(normalize=True))\n",
    "\n",
    "\n",
    "model = RandomForestClassifier(random_state=42, n_estimators=35)\n",
    "model.fit(X_train_val_up, y_train_val_up)\n",
    "\n",
    "print(f'F1: {f1_score(y_test, model.predict(X_test)):.3f}')  \n",
    "print(f'AUC-ROC: {roc_auc_score(y_test, model.predict_proba(X_test)[:, 1]):.3f}')  "
   ]
  },
  {
   "cell_type": "code",
   "execution_count": 19,
   "id": "e6956f09",
   "metadata": {},
   "outputs": [
    {
     "data": {
      "image/png": "[encoded data removed]",
      "text/plain": [
       "<Figure size 432x288 with 1 Axes>"
      ]
     },
     "metadata": {
      "image/png": {
       "height": 277,
       "width": 393
      },
      "needs_background": "light"
     },
     "output_type": "display_data"
    }
   ],
   "source": [
    "fpr, tpr, thresholds = roc_curve(y_test,  model.predict_proba(X_test)[:, 1])\n",
    "\n",
    "plt.figure()\n",
    "plt.plot(fpr, tpr)\n",
    "plt.plot([0, 1], [0, 1], linestyle='--')\n",
    "plt.xlim([0.0, 1.0])\n",
    "plt.ylim([0.0, 1.0])\n",
    "plt.xlabel('False Positive Rate')\n",
    "plt.ylabel('True Positive Rate')\n",
    "plt.title('ROC curve')\n",
    "plt.show()"
   ]
  },
  {
   "cell_type": "markdown",
   "id": "1629871f",
   "metadata": {},
   "source": [
    "**Conclusion**\n",
    "\n",
    "After training our best model on the entire source dataset (train and validation combined and downsampled), we have a 0.595 F1 score and 0.844 AUC-ROC metric on the test dataset.\n",
    "\n",
    "---"
   ]
  },
  {
   "cell_type": "markdown",
   "id": "a7be2eba",
   "metadata": {},
   "source": [
    "## Overall conclusion\n",
    "\n",
    "Using some data on churned Beta Bank customers, we built a DecisionTreeClassifier that predicts the best option with an F1 score of 0.595 and an AUC-ROC metric of 0.844."
   ]
  }
 ],
 "metadata": {
  "ExecuteTimeLog": [
   {
    "duration": 100,
    "start_time": "2022-03-22T07:49:05.324Z"
   },
   {
    "duration": 113,
    "start_time": "2022-03-22T07:50:17.374Z"
   },
   {
    "duration": 2098,
    "start_time": "2022-03-22T07:50:19.102Z"
   },
   {
    "duration": 14,
    "start_time": "2022-03-22T07:50:22.344Z"
   },
   {
    "duration": 135,
    "start_time": "2022-03-22T07:50:24.203Z"
   },
   {
    "duration": 1580,
    "start_time": "2022-03-22T07:50:25.518Z"
   },
   {
    "duration": 144,
    "start_time": "2022-03-22T07:50:31.252Z"
   },
   {
    "duration": 54,
    "start_time": "2022-03-22T07:51:33.376Z"
   },
   {
    "duration": 57,
    "start_time": "2022-03-22T07:51:52.714Z"
   },
   {
    "duration": 48,
    "start_time": "2022-03-22T07:53:12.869Z"
   },
   {
    "duration": 52,
    "start_time": "2022-03-22T07:53:56.938Z"
   },
   {
    "duration": 42,
    "start_time": "2022-03-22T07:54:19.821Z"
   },
   {
    "duration": 45,
    "start_time": "2022-03-22T07:55:16.415Z"
   },
   {
    "duration": 33,
    "start_time": "2022-03-22T07:56:35.149Z"
   },
   {
    "duration": 34,
    "start_time": "2022-03-22T07:58:00.968Z"
   },
   {
    "duration": 5,
    "start_time": "2022-03-22T08:03:17.207Z"
   },
   {
    "duration": 28,
    "start_time": "2022-03-22T08:04:11.238Z"
   },
   {
    "duration": 7,
    "start_time": "2022-03-22T08:04:13.975Z"
   },
   {
    "duration": 493,
    "start_time": "2022-03-22T08:05:15.564Z"
   },
   {
    "duration": 111,
    "start_time": "2022-03-22T08:07:40.819Z"
   },
   {
    "duration": 34,
    "start_time": "2022-03-22T08:09:20.198Z"
   },
   {
    "duration": 33,
    "start_time": "2022-03-22T08:09:40.622Z"
   },
   {
    "duration": 34,
    "start_time": "2022-03-22T08:13:57.617Z"
   },
   {
    "duration": 36,
    "start_time": "2022-03-22T08:14:08.703Z"
   },
   {
    "duration": 41,
    "start_time": "2022-03-22T08:14:42.472Z"
   },
   {
    "duration": 445,
    "start_time": "2022-03-22T08:15:08.685Z"
   },
   {
    "duration": 1500,
    "start_time": "2022-03-22T08:18:28.196Z"
   },
   {
    "duration": 174,
    "start_time": "2022-03-22T08:21:48.724Z"
   },
   {
    "duration": 1607,
    "start_time": "2022-03-22T08:21:50.398Z"
   },
   {
    "duration": 11,
    "start_time": "2022-03-22T08:24:18.880Z"
   },
   {
    "duration": 14,
    "start_time": "2022-03-22T08:24:27.922Z"
   },
   {
    "duration": 15,
    "start_time": "2022-03-22T08:25:05.613Z"
   },
   {
    "duration": 104,
    "start_time": "2022-03-22T08:25:46.959Z"
   },
   {
    "duration": 904,
    "start_time": "2022-03-22T08:26:27.645Z"
   },
   {
    "duration": 26,
    "start_time": "2022-03-22T08:38:56.814Z"
   },
   {
    "duration": 15,
    "start_time": "2022-03-22T08:39:27.402Z"
   },
   {
    "duration": 1959,
    "start_time": "2022-03-22T08:42:24.501Z"
   },
   {
    "duration": 1578,
    "start_time": "2022-03-22T08:42:47.840Z"
   },
   {
    "duration": 1557,
    "start_time": "2022-03-22T08:43:17.091Z"
   },
   {
    "duration": 1674,
    "start_time": "2022-03-22T08:43:22.248Z"
   },
   {
    "duration": 3074,
    "start_time": "2022-03-22T08:46:22.153Z"
   },
   {
    "duration": 1663,
    "start_time": "2022-03-22T08:46:44.445Z"
   },
   {
    "duration": 6055,
    "start_time": "2022-03-22T08:46:52.623Z"
   },
   {
    "duration": 1316,
    "start_time": "2022-03-22T08:47:20.886Z"
   },
   {
    "duration": 8966,
    "start_time": "2022-03-22T08:47:25.700Z"
   },
   {
    "duration": 172,
    "start_time": "2022-03-22T08:47:48.458Z"
   },
   {
    "duration": 8993,
    "start_time": "2022-03-22T08:47:52.470Z"
   },
   {
    "duration": 15,
    "start_time": "2022-03-22T08:48:16.321Z"
   },
   {
    "duration": 106,
    "start_time": "2022-03-22T08:48:30.070Z"
   },
   {
    "duration": 4732,
    "start_time": "2022-03-22T08:48:41.679Z"
   },
   {
    "duration": 493,
    "start_time": "2022-03-22T08:49:41.802Z"
   },
   {
    "duration": 162,
    "start_time": "2022-03-22T08:49:45.613Z"
   },
   {
    "duration": 184,
    "start_time": "2022-03-22T08:50:14.662Z"
   },
   {
    "duration": 159,
    "start_time": "2022-03-22T08:50:38.169Z"
   },
   {
    "duration": 161,
    "start_time": "2022-03-22T08:50:43.826Z"
   },
   {
    "duration": 16,
    "start_time": "2022-03-22T08:53:36.654Z"
   },
   {
    "duration": 13,
    "start_time": "2022-03-22T08:55:30.823Z"
   },
   {
    "duration": 211,
    "start_time": "2022-03-22T08:55:43.262Z"
   },
   {
    "duration": 12662,
    "start_time": "2022-03-22T08:56:02.421Z"
   },
   {
    "duration": 147,
    "start_time": "2022-03-22T08:57:06.955Z"
   },
   {
    "duration": 362,
    "start_time": "2022-03-22T08:57:33.650Z"
   },
   {
    "duration": 469,
    "start_time": "2022-03-22T08:58:48.692Z"
   },
   {
    "duration": 11,
    "start_time": "2022-03-22T09:02:41.511Z"
   },
   {
    "duration": 4,
    "start_time": "2022-03-22T09:02:49.436Z"
   },
   {
    "duration": 176,
    "start_time": "2022-03-22T09:03:00.340Z"
   },
   {
    "duration": 181,
    "start_time": "2022-03-22T09:04:34.875Z"
   },
   {
    "duration": 1625,
    "start_time": "2022-03-22T09:04:35.058Z"
   },
   {
    "duration": 14,
    "start_time": "2022-03-22T09:04:36.685Z"
   },
   {
    "duration": 163,
    "start_time": "2022-03-22T09:04:36.701Z"
   },
   {
    "duration": 1388,
    "start_time": "2022-03-22T09:04:36.866Z"
   },
   {
    "duration": 128,
    "start_time": "2022-03-22T09:04:38.256Z"
   },
   {
    "duration": 6,
    "start_time": "2022-03-22T09:04:38.386Z"
   },
   {
    "duration": 1286,
    "start_time": "2022-03-22T09:04:38.393Z"
   },
   {
    "duration": 8441,
    "start_time": "2022-03-22T09:04:39.681Z"
   },
   {
    "duration": 177,
    "start_time": "2022-03-22T09:04:48.125Z"
   },
   {
    "duration": 8535,
    "start_time": "2022-03-22T09:04:48.303Z"
   },
   {
    "duration": 14,
    "start_time": "2022-03-22T09:04:56.839Z"
   },
   {
    "duration": 113,
    "start_time": "2022-03-22T09:04:56.854Z"
   },
   {
    "duration": 4733,
    "start_time": "2022-03-22T09:04:56.969Z"
   },
   {
    "duration": 15,
    "start_time": "2022-03-22T09:05:01.704Z"
   },
   {
    "duration": 230,
    "start_time": "2022-03-22T09:05:01.720Z"
   },
   {
    "duration": 11780,
    "start_time": "2022-03-22T09:05:01.951Z"
   },
   {
    "duration": 522,
    "start_time": "2022-03-22T09:05:13.733Z"
   },
   {
    "duration": 180,
    "start_time": "2022-03-22T09:05:14.257Z"
   }
  ],
  "kernelspec": {
   "display_name": "Python 3 (ipykernel)",
   "language": "python",
   "name": "python3"
  },
  "language_info": {
   "codemirror_mode": {
    "name": "ipython",
    "version": 3
   },
   "file_extension": ".py",
   "mimetype": "text/x-python",
   "name": "python",
   "nbconvert_exporter": "python",
   "pygments_lexer": "ipython3",
   "version": "3.9.6"
  },
  "toc": {
   "base_numbering": 1,
   "nav_menu": {},
   "number_sections": true,
   "sideBar": true,
   "skip_h1_title": true,
   "title_cell": "Table of Contents",
   "title_sidebar": "Contents",
   "toc_cell": false,
   "toc_position": {},
   "toc_section_display": true,
   "toc_window_display": false
  }
 },
 "nbformat": 4,
 "nbformat_minor": 5
}
